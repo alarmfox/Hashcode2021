{
 "cells": [
  {
   "cell_type": "markdown",
   "id": "ea548afa-35e9-4d9d-a3b2-7128a024ef93",
   "metadata": {},
   "source": [
    "# Descrizione del problema\n",
    "Il problema riguarda lo **scheduling**. Sono dati $G$ ingegneri che lavorono per $L$ giorni. La realtà è composta da 3 elementi:\n",
    "* **Features**: sono le funzionalità implementate nei prodotti;\n",
    "* **Services**: sono i programmi che sono in esecuzione sui server;\n",
    "* **Binaries**: modellano un server. Ogni *binary* può avere in esecuzione più servizi;\n",
    "\n",
    "## Relazioni tra le entità\n",
    "Una **Feature** i contraddistinta dal numero di utenti che riesce a soddisfare e da un insieme di servizi da cui dipende. Una **Feature** è disponibile ai clienti quando viene implementata in ogni servizio da cui dipende.<br>\n",
    "\n",
    "Un **Service** è presente su **uno e un solo binary**, ma su ogni **binary** è possibile inserire più **Services**.\n",
    "\n",
    "Ogni ingegnere $G_i$ può cominciare ad eseguire un task $T_j$ che può prendere un numero di giorni $D_k$. In particolare, possono essere eseguite le seguenti mosse:\n",
    "- Implementare una **Feature**: su un *binary* $B_j$ può implementare tutti i servizi per una feature $F_i$. Questa mossa ha una durata $D_{Fi} + R_{Bj} + C_{Bj}$. Dove $D_{Fi}$ è data dalla complessità della **Feature**, $R_{Bj}$ è dato dal numero di servizi totali presenti nel *binary*, $C_{Bj}$ ingegneri che stanno già lavorando su $B_j$ nel giorno in cui viene *schedulata* l'attività. Inoltre, ogni ingegnere può implementare la stessa **Feature** su **binary** diversi. Infine, se più ingegneri sono *schedulati* per lavorare sullo stesso **binary** il primo della soluzione viene schedulato e conta per gli altri nel fattore $C_{Bj}$;\n",
    "\n",
    "- Spostare un servizio: un ingegnere può spostare un servizio $S_i$ da un *binary* $B_j$ a $B_k$, mantenendo le funzionalità implementate. Per fare questa mossa, un ingegnere impiega $\\max (R_{bj}, R_{bk})$ giorni dove $R_{bj}, R_{bk})$ sono i servizi in esecuzione rispettivamente su $B_j$ a $B_k$. Quest'azione però è bloccante: nessun ingegnere può lavorare su $B_j$ e $B_k$ quando è in corso una migrazione; \n",
    "\n",
    "- Creazione di un nuovo **Binary**: un ingegnere può creare un **Binary** nuovo senza nessun servizio in $N$ giorni;\n",
    "\n",
    "- Idle: un ingegnere può non fare nulla e aspettare;"
   ]
  },
  {
   "cell_type": "markdown",
   "id": "b436250d-ccbb-462a-a7a6-a8f410cf2085",
   "metadata": {},
   "source": [
    "## Preprocessing\n",
    "Dato il file in ingresso, le seguenti operazioni vengono svolte:\n",
    "* la prima operazione consiste nel creare un dizionario in cui per ogni **binary** si memorizzano i servizi che sono installati su di esso;\n",
    "* per ogni **feature** si crea un dizionario contente difficoltà, servizi di dipendenza e il numero di clienti che soddisfa;"
   ]
  },
  {
   "cell_type": "code",
   "execution_count": 70,
   "id": "0b67da7d-b33c-4f15-9e14-bad9634bd03b",
   "metadata": {},
   "outputs": [
    {
     "name": "stdout",
     "output_type": "stream",
     "text": [
      "{0: ['se'], 1: ['sa', 'sc'], 2: ['sb', 'sd']}\n",
      "{'foo': {'services': ['sc', 'sb', 'sd'], 'users': 100, 'difficulty': '3'}, 'bar': {'services': ['sc', 'sa'], 'users': 20, 'difficulty': '1'}}\n"
     ]
    }
   ],
   "source": [
    "fname = \"data/a_example.in.txt\"\n",
    "\n",
    "# lettura dei dati dal file di input\n",
    "with open(fname, \"r\") as f:\n",
    "    lines = f.readlines()\n",
    "    \n",
    "# parsing della prima riga: metadati del problema\n",
    "metadata = [int(k) for k in lines[0].strip().split(\" \")]\n",
    "num_days, num_engineers, num_services, num_binaries, num_features, days2new = metadata\n",
    "\n",
    "# creazione dizionario dei binaries\n",
    "binaries = {id: [] for id in range (num_binaries)}\n",
    "\n",
    "service2binary = [line.strip().split() for line in lines[1:num_services+1] ]\n",
    "for (service, binary)  in service2binary:\n",
    "    binaries[int(binary)].append(service)\n",
    "\n",
    "# creazione del dizionario features\n",
    "features = {}\n",
    "for i, feature in enumerate(lines[1+num_services:]):\n",
    "    if i % 2 ==0:\n",
    "        feature, services, difficulty, users = feature.strip().split(\" \")\n",
    "        services = lines[1+num_services+1+i].split()\n",
    "        features[feature] = {\n",
    "            \"services\": services,\n",
    "            \"users\": int(users),\n",
    "            \"difficulty\": int(difficulty)\n",
    "        }\n"
   ]
  },
  {
   "cell_type": "markdown",
   "id": "0e088768-c3a6-4c05-bbea-66c477c9a38e",
   "metadata": {},
   "source": [
    "# Approccio 1\n",
    "In una fase preliminare, l'algoritmo ordina le feature per numero di utenti soddisfatti. In questo approccio, si assegna un punteggio maggiore ai servizi che risiedono sulla stessa macchina."
   ]
  },
  {
   "cell_type": "code",
   "execution_count": null,
   "id": "3813e6f0-a6bb-472e-84aa-0f7d48f0ff04",
   "metadata": {},
   "outputs": [],
   "source": []
  }
 ],
 "metadata": {
  "kernelspec": {
   "display_name": "Python 3 (ipykernel)",
   "language": "python",
   "name": "python3"
  },
  "language_info": {
   "codemirror_mode": {
    "name": "ipython",
    "version": 3
   },
   "file_extension": ".py",
   "mimetype": "text/x-python",
   "name": "python",
   "nbconvert_exporter": "python",
   "pygments_lexer": "ipython3",
   "version": "3.10.9"
  }
 },
 "nbformat": 4,
 "nbformat_minor": 5
}
